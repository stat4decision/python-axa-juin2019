{
 "cells": [
  {
   "cell_type": "markdown",
   "metadata": {},
   "source": [
    "# Le rapprochement de chaînes de caractères\n",
    "\n",
    "Avez-vous déjà essayer de rapprocher des chaînes de caractères de manière automatique ?\n",
    "\n",
    "Très rapidement vous vous retrouverez face à un certain nombre de problèmes difficiles à gérer.\n",
    "\n",
    "Voici un exemple de 4 chaînes très proches :"
   ]
  },
  {
   "cell_type": "code",
   "execution_count": 1,
   "metadata": {},
   "outputs": [],
   "source": [
    "chaine1 = \"Python chez AXA\"\n",
    "chaine2 = \"python chez axa\"\n",
    "chaine3 = \"a...Python chez AXA...a\"\n",
    "chaine4 = \"Pyton chez AXA\""
   ]
  },
  {
   "cell_type": "markdown",
   "metadata": {},
   "source": [
    "Essayez de transformer ces chaînes de façon à pouvoir écrire sans erreur :"
   ]
  },
  {
   "cell_type": "code",
   "execution_count": 2,
   "metadata": {},
   "outputs": [],
   "source": [
    "# assert permet de tester une expression et renvoie une erreur en cas \n",
    "# de non égalité\n",
    "# assert chaine1 == chaine2 == chaine3 == chaine4"
   ]
  },
  {
   "cell_type": "markdown",
   "metadata": {},
   "source": [
    "## La distance de Levenshtein\n",
    "\n",
    "La distance de Levenshtein est une métrique permettant de mesurer l'écart entre deux séquences de mots. \n",
    "\n",
    "En d'autres termes, elle mesure le nombre minimum de modifications que vous devez effectuer pour modifier une séquence d'un mot en un autre. Ces modifications peuvent être des insertions, des suppressions ou des substitutions. Cette mesure a été nommée en l'honneur de Vladimir Levenshtein, qui l'avait envisagée en 1965.\n",
    "\n",
    "La définition en python de la distance de Levenshtein entre deux chaînes a et b peut être vue comme suit:"
   ]
  },
  {
   "cell_type": "code",
   "execution_count": 3,
   "metadata": {},
   "outputs": [],
   "source": [
    "import numpy as np\n",
    "def levenshtein_ratio_and_distance(s, t, ratio_calc = False):\n",
    "    \"\"\" levenshtein_ratio_and_distance:\n",
    "        Calculates levenshtein distance between two strings.\n",
    "        If ratio_calc = True, the function computes the\n",
    "        levenshtein distance ratio of similarity between two strings\n",
    "        For all i and j, distance[i,j] will contain the Levenshtein\n",
    "        distance between the first i characters of s and the\n",
    "        first j characters of t\n",
    "    \"\"\"\n",
    "    # Initialize matrix of zeros\n",
    "    rows = len(s)+1\n",
    "    cols = len(t)+1\n",
    "    distance = np.zeros((rows,cols),dtype = int)\n",
    "\n",
    "    # Populate matrix of zeros with the indeces of each character of both strings\n",
    "    for i in range(1, rows):\n",
    "        for k in range(1,cols):\n",
    "            distance[i][0] = i\n",
    "            distance[0][k] = k\n",
    "\n",
    "    # Iterate over the matrix to compute the cost of deletions,insertions and/or substitutions    \n",
    "    for col in range(1, cols):\n",
    "        for row in range(1, rows):\n",
    "            if s[row-1] == t[col-1]:\n",
    "                cost = 0 # If the characters are the same in the two strings in a given position [i,j] then the cost is 0\n",
    "            else:\n",
    "                # In order to align the results with those of the Python Levenshtein package, if we choose to calculate the ratio\n",
    "                # the cost of a substitution is 2. If we calculate just distance, then the cost of a substitution is 1.\n",
    "                if ratio_calc == True:\n",
    "                    cost = 2\n",
    "                else:\n",
    "                    cost = 1\n",
    "            distance[row][col] = min(distance[row-1][col] + 1,      # Cost of deletions\n",
    "                                 distance[row][col-1] + 1,          # Cost of insertions\n",
    "                                 distance[row-1][col-1] + cost)     # Cost of substitutions\n",
    "    if ratio_calc == True:\n",
    "        # Computation of the Levenshtein Distance Ratio\n",
    "        Ratio = ((len(s)+len(t)) - distance[row][col]) / (len(s)+len(t))\n",
    "        return Ratio\n",
    "    else:\n",
    "        # print(distance) # Uncomment if you want to see the matrix showing how the algorithm computes the cost of deletions,\n",
    "        # insertions and/or substitutions\n",
    "        # This is the minimum number of edits needed to convert string a to string b\n",
    "        return \"Les chaînes sont à {} changements près\".format(distance[row][col])"
   ]
  },
  {
   "cell_type": "markdown",
   "metadata": {},
   "source": [
    "Essayez de calculer la distance entre les chaînes précédentes dans une matrice :"
   ]
  },
  {
   "cell_type": "code",
   "execution_count": 4,
   "metadata": {},
   "outputs": [
    {
     "name": "stdout",
     "output_type": "stream",
     "text": [
      "Python chez AXA\n"
     ]
    }
   ],
   "source": [
    "print(eval(\"chaine\"+\"1\"))"
   ]
  },
  {
   "cell_type": "code",
   "execution_count": 5,
   "metadata": {},
   "outputs": [
    {
     "data": {
      "text/plain": [
       "0.7894736842105263"
      ]
     },
     "execution_count": 5,
     "metadata": {},
     "output_type": "execute_result"
    }
   ],
   "source": [
    "levenshtein_ratio_and_distance(chaine1,chaine3,ratio_calc=True)"
   ]
  },
  {
   "cell_type": "markdown",
   "metadata": {},
   "source": [
    "Il s'agit ici d'une implémentation manuelle de la distance de Levenshtein. Il existe un package Levenshtein pour la calculer automatiqmement :\n",
    "\n",
    "Utilisez le fichier `.whl` adapté pour votre version de Python en utilisant :\n",
    "\n",
    "`pip install .../....whl`"
   ]
  },
  {
   "cell_type": "code",
   "execution_count": 6,
   "metadata": {},
   "outputs": [],
   "source": [
    "import Levenshtein as lev"
   ]
  },
  {
   "cell_type": "code",
   "execution_count": 7,
   "metadata": {},
   "outputs": [
    {
     "name": "stdout",
     "output_type": "stream",
     "text": [
      "(1,)\n",
      "0.9655172413793104\n"
     ]
    }
   ],
   "source": [
    "Distance = lev.distance(chaine1.lower(),chaine4.lower()),\n",
    "print(Distance)\n",
    "Ratio = lev.ratio(chaine1.lower(),chaine4.lower())\n",
    "print(Ratio)"
   ]
  },
  {
   "cell_type": "markdown",
   "metadata": {},
   "source": [
    "## Aller plus loin : le package de référence FuzzyWuzzy\n",
    "\n",
    "`pip install fuzzywuzzy`\n",
    "\n",
    "ou alors avec le fichier `.whl`\n",
    "\n"
   ]
  },
  {
   "cell_type": "code",
   "execution_count": 8,
   "metadata": {},
   "outputs": [],
   "source": [
    "from fuzzywuzzy import fuzz\n",
    "from fuzzywuzzy import process"
   ]
  },
  {
   "cell_type": "markdown",
   "metadata": {},
   "source": [
    "On peut calculer d'autres distances :"
   ]
  },
  {
   "cell_type": "code",
   "execution_count": 9,
   "metadata": {},
   "outputs": [
    {
     "name": "stdout",
     "output_type": "stream",
     "text": [
      "79\n",
      "100\n"
     ]
    }
   ],
   "source": [
    "print(fuzz.ratio(chaine1, chaine3))\n",
    "# 97\n",
    "print(fuzz.partial_ratio(chaine1, chaine3))\n",
    "# 92"
   ]
  },
  {
   "cell_type": "markdown",
   "metadata": {},
   "source": [
    "On peut utiliser des tokens :"
   ]
  },
  {
   "cell_type": "code",
   "execution_count": 10,
   "metadata": {},
   "outputs": [
    {
     "name": "stdout",
     "output_type": "stream",
     "text": [
      "88\n"
     ]
    },
    {
     "data": {
      "text/plain": [
       "88"
      ]
     },
     "execution_count": 10,
     "metadata": {},
     "output_type": "execute_result"
    }
   ],
   "source": [
    "print(fuzz.token_sort_ratio(\"python chez Axa\", chaine3))\n",
    "# 92\n",
    "fuzz.token_set_ratio('Barack Obama', 'Barack H. Oama')\n",
    "# 100"
   ]
  },
  {
   "cell_type": "markdown",
   "metadata": {},
   "source": [
    "Si on a une liste, on peut utiliser :"
   ]
  },
  {
   "cell_type": "code",
   "execution_count": 11,
   "metadata": {},
   "outputs": [
    {
     "data": {
      "text/plain": [
       "('Barack H Obama', 95)"
      ]
     },
     "execution_count": 11,
     "metadata": {},
     "output_type": "execute_result"
    }
   ],
   "source": [
    "query = 'Barack Obama'\n",
    "choices = ['Barack H Obama', 'Barack H. Obama', 'B. Obama']\n",
    "# Get a list of matches ordered by score, default limit to 5\n",
    "process.extract(query, choices)\n",
    "# [('Barack H Obama', 95), ('Barack H. Obama', 95), ('B. Obama', 85)]\n",
    " \n",
    "# If we want only the top one\n",
    "process.extractOne(query, choices)\n",
    "# ('Barack H Obama', 95)"
   ]
  },
  {
   "cell_type": "code",
   "execution_count": 13,
   "metadata": {},
   "outputs": [],
   "source": [
    "query = \"SARL/U\"\n",
    "choices = [\"SA\",\"SASU\", \"EURL\", \"SAS\" ]"
   ]
  },
  {
   "cell_type": "code",
   "execution_count": 14,
   "metadata": {},
   "outputs": [
    {
     "data": {
      "text/plain": [
       "[('SASU', 60), ('SA', 50), ('SAS', 44), ('EURL', 40)]"
      ]
     },
     "execution_count": 14,
     "metadata": {},
     "output_type": "execute_result"
    }
   ],
   "source": [
    "process.extract(query, choices, scorer= fuzz.token_sort_ratio)"
   ]
  },
  {
   "cell_type": "code",
   "execution_count": 15,
   "metadata": {},
   "outputs": [
    {
     "data": {
      "text/plain": [
       "[('SASU', 60), ('SA', 50)]"
      ]
     },
     "execution_count": 15,
     "metadata": {},
     "output_type": "execute_result"
    }
   ],
   "source": [
    "process.extract(query, choices, scorer= fuzz.ratio,limit=2)"
   ]
  },
  {
   "cell_type": "code",
   "execution_count": 16,
   "metadata": {
    "scrolled": true
   },
   "outputs": [],
   "source": [
    "process.extractOne(query, choices, scorer= fuzz.ratio, score_cutoff=70)"
   ]
  },
  {
   "cell_type": "code",
   "execution_count": null,
   "metadata": {},
   "outputs": [],
   "source": []
  },
  {
   "cell_type": "markdown",
   "metadata": {},
   "source": [
    "Nous verrons l'application sur des données de ces outils dans la partie sur pandas."
   ]
  },
  {
   "cell_type": "code",
   "execution_count": 17,
   "metadata": {},
   "outputs": [
    {
     "data": {
      "text/plain": [
       "'!\"#$%&\\'()*+,-./:;<=>?@[\\\\]^_`{|}~'"
      ]
     },
     "execution_count": 17,
     "metadata": {},
     "output_type": "execute_result"
    }
   ],
   "source": [
    "import string \n",
    "string.punctuation"
   ]
  },
  {
   "cell_type": "code",
   "execution_count": null,
   "metadata": {},
   "outputs": [],
   "source": []
  }
 ],
 "metadata": {
  "kernelspec": {
   "display_name": "Python 3",
   "language": "python",
   "name": "python3"
  },
  "language_info": {
   "codemirror_mode": {
    "name": "ipython",
    "version": 3
   },
   "file_extension": ".py",
   "mimetype": "text/x-python",
   "name": "python",
   "nbconvert_exporter": "python",
   "pygments_lexer": "ipython3",
   "version": "3.6.8"
  },
  "toc": {
   "base_numbering": 1,
   "nav_menu": {},
   "number_sections": false,
   "sideBar": false,
   "skip_h1_title": false,
   "title_cell": "Table of Contents",
   "title_sidebar": "Contents",
   "toc_cell": false,
   "toc_position": {},
   "toc_section_display": false,
   "toc_window_display": false
  }
 },
 "nbformat": 4,
 "nbformat_minor": 2
}
